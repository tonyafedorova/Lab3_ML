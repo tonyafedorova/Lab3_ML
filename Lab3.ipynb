{
 "cells": [
  {
   "cell_type": "code",
   "execution_count": 36,
   "metadata": {
    "scrolled": true
   },
   "outputs": [
    {
     "data": {
      "text/plain": [
       "SalePrice               1.000000\n",
       "OverallQual             0.790982\n",
       "GrLivArea               0.708624\n",
       "GarageCars              0.640409\n",
       "GarageArea              0.623431\n",
       "TotalBsmtSF             0.613581\n",
       "1stFlrSF                0.605852\n",
       "ExterQual_TA            0.589044\n",
       "FullBath                0.560664\n",
       "BsmtQual_Ex             0.553105\n",
       "TotRmsAbvGrd            0.533723\n",
       "YearBuilt               0.522897\n",
       "KitchenQual_TA          0.519298\n",
       "GarageFinish_Unf        0.513906\n",
       "YearRemodAdd            0.507101\n",
       "KitchenQual_Ex          0.504094\n",
       "BsmtQual_TA             0.498545\n",
       "Foundation_PConc        0.497734\n",
       "MasVnrArea              0.472614\n",
       "Fireplaces              0.466929\n",
       "GarageYrBlt             0.466754\n",
       "ExterQual_Gd            0.452466\n",
       "ExterQual_Ex            0.451164\n",
       "BsmtFinType1_GLQ        0.434597\n",
       "HeatingQC_Ex            0.434543\n",
       "GarageFinish_Fin        0.419678\n",
       "Neighborhood_NridgHt    0.402149\n",
       "BsmtFinSF1              0.386420\n",
       "MasVnrType_None         0.367456\n",
       "SaleType_New            0.357509\n",
       "                          ...   \n",
       "Functional_Sev          0.017116\n",
       "BsmtHalfBath            0.016844\n",
       "Exterior2nd_Stone       0.016754\n",
       "RoofStyle_Flat          0.016433\n",
       "PoolQC_Fa               0.016127\n",
       "Functional_Mod          0.016073\n",
       "SaleCondition_Alloca    0.015525\n",
       "Neighborhood_SawyerW    0.014560\n",
       "Condition2_RRAn         0.014510\n",
       "RoofMatl_Roll           0.014479\n",
       "SaleType_ConLI          0.014371\n",
       "Utilities               0.014314\n",
       "Foundation_Stone        0.012103\n",
       "ExterCond_Ex            0.011663\n",
       "BsmtFinSF2              0.011378\n",
       "RoofMatl_ClyTile        0.006897\n",
       "LotConfig_FR2           0.006859\n",
       "Condition1_RRAn         0.005893\n",
       "Fence_GdPrv             0.005152\n",
       "RoofMatl_Tar&Grv        0.004921\n",
       "MiscFeature_Gar2        0.004744\n",
       "Condition1_RRNe         0.004584\n",
       "LotConfig_Corner        0.004145\n",
       "BldgType_TwnhsE         0.003804\n",
       "Condition2_RRAe         0.002993\n",
       "Foundation_Wood         0.002711\n",
       "GarageCond_Gd           0.000983\n",
       "RoofStyle_Mansard       0.000308\n",
       "RoofMatl_Metal          0.000304\n",
       "BsmtFinType2_GLQ        0.000076\n",
       "Name: SalePrice, Length: 286, dtype: float64"
      ]
     },
     "execution_count": 36,
     "metadata": {},
     "output_type": "execute_result"
    },
    {
     "data": {
      "image/png": "[encoded data removed]",
      "text/plain": [
       "<matplotlib.figure.Figure at 0x202618d7dd8>"
      ]
     },
     "metadata": {},
     "output_type": "display_data"
    }
   ],
   "source": [
    "import pandas as pd\n",
    "from sklearn.linear_model import LinearRegression, Lasso\n",
    "import numpy as np\n",
    "import matplotlib.pyplot as plt\n",
    "from sklearn.metrics import accuracy_score\n",
    "from sklearn.linear_model import LinearRegression\n",
    "from sys import stdout\n",
    "from sklearn.model_selection import train_test_split\n",
    "import math\n",
    "from sklearn.decomposition import PCA \n",
    "from sklearn.preprocessing import MinMaxScaler\n",
    "from sklearn.metrics import mean_absolute_error\n",
    "plt.style.use('ggplot')\n",
    "%matplotlib inline\n",
    "def rmsle(y_true, y_pred):\n",
    "   assert len(y_true) == len(y_pred)\n",
    "   return np.square(np.log(y_pred + 1) - np.log(y_true + 1)).mean() ** 0.5\n",
    "data = pd.read_csv('C:/Users/User/Desktop/train.csv',  na_values='?')\n",
    "#print (data.head(1460))\n",
    "plt.plot(data['GrLivArea'], data['SalePrice'], 'bx')\n",
    "categorical_columns = [c for c in data.columns if data[c].dtype.name == 'object']\n",
    "numerical_columns   = [c for c in data.columns if data[c].dtype.name != 'object']\n",
    "#заполнение нулевых значений\n",
    "#для числовых\n",
    "data = data.fillna(data.median(axis=0), axis=0)\n",
    "#Для категориальных\n",
    "data_describe = data.describe(include=[object])\n",
    "for c in categorical_columns:\n",
    "    data[c] = data[c].fillna(data_describe[c]['top'])\n",
    "\n",
    "#data.count(axis=0)\n",
    "binary_columns    = [c for c in categorical_columns if data_describe[c]['unique'] == 2]\n",
    "nonbinary_columns = [c for c in categorical_columns if data_describe[c]['unique'] > 2]\n",
    "\n",
    "#избавление от бинарных категориальных признаков\n",
    "for c in binary_columns:\n",
    "    top = data_describe[c]['top']\n",
    "    top_items = data[c] == top\n",
    "    data.loc[top_items, c] = 0\n",
    "    data.loc[np.logical_not(top_items), c] = 1\n",
    "#data[binary_columns].describe()\n",
    "#избавление от не бинарных категориальных признаков\n",
    "data_nonbinary = pd.get_dummies(data[nonbinary_columns])\n",
    "#print (data_nonbinary.columns)\n",
    "\n",
    "#нормализация \n",
    "data_numerical = data[numerical_columns]\n",
    "data_numerical = (data_numerical - data_numerical.mean()) / data_numerical.std()\n",
    "data_numerical.describe()\n",
    "#все в одну таблицу\n",
    "data = pd.concat((data_numerical, data[binary_columns], data_nonbinary), axis=1)\n",
    "data = pd.DataFrame(data, dtype=float)\n",
    "#print (data.shape)\n",
    "#print (data.columns)\n",
    "\n",
    "data.corr()['SalePrice'].abs().sort_values(ascending=False)\n",
    "\n",
    "#data.corr()\n",
    "#полученные значения корреляции\n",
    "#рассмотрим первые несколько значений\n",
    "\n",
    "\n"
   ]
  },
  {
   "cell_type": "code",
   "execution_count": 2,
   "metadata": {},
   "outputs": [
    {
     "name": "stdout",
     "output_type": "stream",
     "text": [
      "949 511\n",
      "mean_absolute_error by sklearn =  0.28196266089036315\n",
      "rmse = 0.5443530804154302\n"
     ]
    },
    {
     "name": "stderr",
     "output_type": "stream",
     "text": [
      "C:\\Users\\User\\Anaconda3\\lib\\site-packages\\ipykernel_launcher.py:17: RuntimeWarning: invalid value encountered in log\n"
     ]
    }
   ],
   "source": [
    "data=data[['SalePrice','OverallQual','GrLivArea','GarageCars','TotalBsmtSF','ExterQual_TA',\n",
    "           'FullBath','BsmtQual_Ex','YearBuilt','KitchenQual_TA','YearRemodAdd', 'KitchenQual_Ex']]\n",
    "data\n",
    "#выделение X и Y\n",
    "X = data.drop(('SalePrice'), axis=1)  # Выбрасываем столбец 'SalePrice'.\n",
    "y = data['SalePrice']\n",
    "#print(X)\n",
    "#print(Y)\n",
    "feature_names = X.columns\n",
    "#print (feature_names)\n",
    "#print (X.shape)\n",
    "#print (y.shape)\n",
    "N, d = X.shape\n",
    "#разделение данных\n",
    "X_train, X_test, y_train, y_test = train_test_split(X, y, test_size = 0.35, random_state = 11)\n",
    "N_train, _ = X_train.shape \n",
    "N_test,  _ = X_test.shape \n",
    "print (N_train, N_test)\n",
    "#библиотечная регрессия\n",
    "lr = LinearRegression() \n",
    "lr.fit(X_train, y_train)\n",
    "print('mean_absolute_error by sklearn = ', mean_absolute_error(y_test, lr.predict(X_test)))\n",
    "print('rmse =', rmsle(y_test, lr.predict(X_test)))"
   ]
  },
  {
   "cell_type": "code",
   "execution_count": 34,
   "metadata": {},
   "outputs": [
    {
     "name": "stdout",
     "output_type": "stream",
     "text": [
      "hands\n",
      "mean_absolute_error :  0.39875969265059785\n",
      "RMSE:  0.6354293710659771\n"
     ]
    },
    {
     "name": "stderr",
     "output_type": "stream",
     "text": [
      "C:\\Users\\User\\Anaconda3\\lib\\site-packages\\ipykernel_launcher.py:17: RuntimeWarning: invalid value encountered in log\n"
     ]
    }
   ],
   "source": [
    "#метод главных вектооров\n",
    "pca = PCA(n_components=11)\n",
    "XPCAredused = pca.fit_transform(X)\n",
    "def predict_outcome(feature_matrix, weights): \n",
    "    weights=np.array(weights) \n",
    "    predictions = np.dot(feature_matrix, weights) \n",
    "    return predictions \n",
    "\n",
    "def errors(output,predictions): \n",
    "    errors=predictions-output \n",
    "    return errors \n",
    "\n",
    "def feature_derivative(errors, feature): \n",
    "    derivative=np.dot(2,np.dot(feature,errors)) \n",
    "    return derivative \n",
    "\n",
    "\n",
    "def regression_gradient_descent(feature_matrix, output, initial_weights, step_size, tolerance): \n",
    "    converged = False \n",
    "    #Начальные веса преобразуются в массив numpy \n",
    "    weights = np.array(initial_weights) \n",
    "    while not converged: \n",
    "        # вычислить прогнозы на основе feature_matrix и весов: \n",
    "        predictions=predict_outcome(feature_matrix,weights) \n",
    "        # вычислять ошибки как predictions - output: \n",
    "        error=errors(output,predictions) \n",
    "        gradient_sum_squares = 0 # инициализирование градиента \n",
    "        # пока не сходится, обновлять каждый вес отдельно: \n",
    "        for i in range(len(weights)): \n",
    "            # Вызов feature_matrix[:, i] если столбец фич связан с весами[i] \n",
    "            feature=feature_matrix[:, i] \n",
    "            deriv=feature_derivative(error,feature) \n",
    "            # добавить квадратную производную к величине градиента \n",
    "            gradient_sum_squares=gradient_sum_squares+(deriv**2) \n",
    "            # обновить вес на основе размера шага и производной: \n",
    "            weights[i]=weights[i] - np.dot(step_size,deriv) \n",
    "\n",
    "        gradient_magnitude = math.sqrt(gradient_sum_squares) \n",
    "        #stdout.write(\"\\r%d\" % int(gradient_magnitude)) \n",
    "        stdout.flush() \n",
    "        if gradient_magnitude < tolerance: \n",
    "            converged = True \n",
    "    return(weights) \n",
    "\n",
    "simple_feature_matrix = XPCAredused \n",
    "output = y \n",
    "initial_weights = np.array([0.5, 0.07, 0.03, 0.02, 0.02, 0.006, 0.005, 0.004, 0.001, 0.05, 0.8 ]) \n",
    "step_size = 0.00001 \n",
    "tolerance = 2.5e7 \n",
    "simple_weights = regression_gradient_descent(simple_feature_matrix, output, initial_weights, step_size, tolerance) \n",
    "#print(simple_weights) \n",
    "\n",
    "hand_y_train_predict = np.dot(X_train, simple_weights) \n",
    "hand_y_test_predict = np.dot(X_test, simple_weights) \n",
    "\n",
    "print(\"hands\") \n",
    "print(\"mean_absolute_error : \", mean_absolute_error(y_test, hand_y_test_predict)) \n",
    "print(\"RMSE: \", rmsle(y_test, hand_y_test_predict))"
   ]
  },
  {
   "cell_type": "code",
   "execution_count": null,
   "metadata": {},
   "outputs": [],
   "source": []
  },
  {
   "cell_type": "code",
   "execution_count": null,
   "metadata": {},
   "outputs": [],
   "source": []
  }
 ],
 "metadata": {
  "kernelspec": {
   "display_name": "Python 3",
   "language": "python",
   "name": "python3"
  },
  "language_info": {
   "codemirror_mode": {
    "name": "ipython",
    "version": 3
   },
   "file_extension": ".py",
   "mimetype": "text/x-python",
   "name": "python",
   "nbconvert_exporter": "python",
   "pygments_lexer": "ipython3",
   "version": "3.6.4"
  }
 },
 "nbformat": 4,
 "nbformat_minor": 2
}
